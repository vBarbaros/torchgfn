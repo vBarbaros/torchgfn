{
 "cells": [
  {
   "cell_type": "code",
   "execution_count": 1,
   "id": "4c0af014",
   "metadata": {},
   "outputs": [],
   "source": [
    "import torch\n",
    "from tqdm import tqdm\n",
    "\n",
    "import gfn\n",
    "\n",
    "from gfn.gflownet import TBGFlowNet  # We use a GFlowNet with the Trajectory Balance (TB) loss\n",
    "from gfn.gym import HyperGrid  # We use the hyper grid environment\n",
    "from gfn.modules import DiscretePolicyEstimator\n",
    "from gfn.samplers import Sampler\n",
    "from gfn.utils import NeuralNet  # NeuralNet is a simple multi-layer perceptron (MLP)"
   ]
  },
  {
   "cell_type": "code",
   "execution_count": 2,
   "id": "ae40c85f",
   "metadata": {},
   "outputs": [
    {
     "name": "stderr",
     "output_type": "stream",
     "text": [
      "100%|██████████████████████████████████████████████████████████████████████████████████████████████████████████████████████████████████████████████████████████████| 1000/1000 [00:58<00:00, 17.14it/s, loss=0.123]\n"
     ]
    }
   ],
   "source": [
    "# 1 - We define the environment.\n",
    "env = HyperGrid(ndim=4, height=8, R0=0.01)  # Grid of size 8x8x8x8\n",
    "\n",
    "# 2 - We define the needed modules (neural networks).\n",
    "# The environment has a preprocessor attribute, which is used to preprocess the state before feeding it to the policy estimator\n",
    "module_PF = NeuralNet(\n",
    "    input_dim=env.preprocessor.output_dim,\n",
    "    output_dim=env.n_actions\n",
    ")  # Neural network for the forward policy, with as many outputs as there are actions\n",
    "module_PB = NeuralNet(\n",
    "    input_dim=env.preprocessor.output_dim,\n",
    "    output_dim=env.n_actions - 1,\n",
    "    torso=module_PF.torso  # We share all the parameters of P_F and P_B, except for the last layer\n",
    ")\n",
    "\n",
    "# 3 - We define the estimators.\n",
    "pf_estimator = DiscretePolicyEstimator(module_PF, env.n_actions, is_backward=False, preprocessor=env.preprocessor)\n",
    "pb_estimator = DiscretePolicyEstimator(module_PB, env.n_actions, is_backward=True, preprocessor=env.preprocessor)\n",
    "\n",
    "# 4 - We define the GFlowNet.\n",
    "gfn = TBGFlowNet(off_policy=False,init_logZ=0., pf=pf_estimator, pb=pb_estimator)  # We initialize logZ to 0\n",
    "\n",
    "# 5 - We define the sampler and the optimizer.\n",
    "sampler = Sampler(estimator=pf_estimator)  # We use an on-policy sampler, based on the forward policy\n",
    "\n",
    "# Policy parameters have their own LR.\n",
    "non_logz_params = [v for k, v in dict(gfn.named_parameters()).items() if k != \"logZ\"]\n",
    "optimizer = torch.optim.Adam(non_logz_params, lr=1e-3)\n",
    "\n",
    "# Log Z gets dedicated learning rate (typically higher).\n",
    "logz_params = [dict(gfn.named_parameters())[\"logZ\"]]\n",
    "optimizer.add_param_group({\"params\": logz_params, \"lr\": 1e-1})\n",
    "\n",
    "# 6 - We train the GFlowNet for 1000 iterations, with 16 trajectories per iteration\n",
    "for i in (pbar := tqdm(range(1000))):\n",
    "    trajectories = sampler.sample_trajectories(env=env, off_policy=False, n_trajectories=16)\n",
    "    optimizer.zero_grad()\n",
    "    loss = gfn.loss(env, trajectories)\n",
    "    loss.backward()\n",
    "    optimizer.step()\n",
    "    if i % 25 == 0:\n",
    "        pbar.set_postfix({\"loss\": loss.item()})\n"
   ]
  },
  {
   "cell_type": "code",
   "execution_count": 6,
   "id": "ee561111-4de8-46dd-885f-9a501b0a9d2f",
   "metadata": {},
   "outputs": [
    {
     "data": {
      "text/plain": [
       "Trajectories(n_trajectories=20, max_length=27, First 10 trajectories:states=\n",
       "[0 0 0 0]-> [0 0 0 1]-> [0 0 1 1]-> [0 0 1 2]-> [0 0 2 2]-> [1 0 2 2]-> [1 0 2 3]-> [2 0 2 3]-> [2 0 2 4]-> [2 0 3 4]-> [3 0 3 4]-> [3 0 4 4]-> [3 0 5 4]-> [3 1 5 4]-> [3 1 6 4]-> [3 1 7 4]-> [3 2 7 4]-> [3 2 7 5]-> [-1 -1 -1 -1]\n",
       "[0 0 0 0]-> [0 0 0 1]-> [0 0 0 2]-> [0 0 0 3]-> [0 0 0 4]-> [0 0 0 5]-> [0 0 0 6]-> [0 0 1 6]-> [0 0 1 7]-> [0 0 2 7]-> [0 1 2 7]-> [0 1 3 7]-> [0 1 4 7]-> [0 1 5 7]-> [0 2 5 7]-> [0 3 5 7]-> [0 4 5 7]-> [1 4 5 7]-> [2 4 5 7]-> [2 5 5 7]-> [-1 -1 -1 -1]\n",
       "[0 0 0 0]-> [1 0 0 0]-> [1 0 1 0]-> [1 0 2 0]-> [1 0 3 0]-> [2 0 3 0]-> [3 0 3 0]-> [3 0 4 0]-> [4 0 4 0]-> [5 0 4 0]-> [5 1 4 0]-> [5 1 5 0]-> [6 1 5 0]-> [7 1 5 0]-> [7 1 6 0]-> [-1 -1 -1 -1]\n",
       "[0 0 0 0]-> [1 0 0 0]-> [1 1 0 0]-> [2 1 0 0]-> [3 1 0 0]-> [4 1 0 0]-> [5 1 0 0]-> [6 1 0 0]-> [7 1 0 0]-> [7 2 0 0]-> [7 3 0 0]-> [7 4 0 0]-> [7 4 0 1]-> [7 5 0 1]-> [7 6 0 1]-> [-1 -1 -1 -1]\n",
       "[0 0 0 0]-> [0 0 1 0]-> [0 0 2 0]-> [0 0 3 0]-> [0 0 4 0]-> [0 0 5 0]-> [0 0 6 0]-> [1 0 6 0]-> [1 0 6 1]-> [1 1 6 1]-> [1 1 6 2]-> [1 1 6 3]-> [1 1 6 4]-> [1 1 6 5]-> [1 1 7 5]-> [1 2 7 5]-> [2 2 7 5]-> [-1 -1 -1 -1]\n",
       "[0 0 0 0]-> [0 0 1 0]-> [0 0 2 0]-> [0 0 3 0]-> [0 0 4 0]-> [0 0 5 0]-> [0 0 6 0]-> [0 0 6 1]-> [0 0 7 1]-> [0 0 7 2]-> [0 0 7 3]-> [0 0 7 4]-> [0 0 7 5]-> [0 0 7 6]-> [0 0 7 7]-> [-1 -1 -1 -1]\n",
       "[0 0 0 0]-> [0 0 0 1]-> [0 0 0 2]-> [0 0 0 3]-> [0 0 1 3]-> [0 0 1 4]-> [0 0 1 5]-> [0 0 1 6]-> [-1 -1 -1 -1]\n",
       "[0 0 0 0]-> [1 0 0 0]-> [1 1 0 0]-> [2 1 0 0]-> [3 1 0 0]-> [4 1 0 0]-> [5 1 0 0]-> [5 2 0 0]-> [5 2 1 0]-> [6 2 1 0]-> [6 3 1 0]-> [6 4 1 0]-> [6 5 1 0]-> [6 6 1 0]-> [7 6 1 0]-> [-1 -1 -1 -1]\n",
       "[0 0 0 0]-> [0 0 1 0]-> [0 1 1 0]-> [0 1 1 1]-> [0 1 1 2]-> [1 1 1 2]-> [1 1 2 2]-> [1 1 3 2]-> [1 2 3 2]-> [1 2 4 2]-> [1 2 4 3]-> [1 3 4 3]-> [1 4 4 3]-> [1 5 4 3]-> [1 5 5 3]-> [1 5 6 3]-> [1 5 6 4]-> [1 5 6 5]-> [2 5 6 5]-> [2 5 6 6]-> [3 5 6 6]-> [3 5 6 7]-> [4 5 6 7]-> [4 5 7 7]-> [-1 -1 -1 -1]\n",
       "[0 0 0 0]-> [0 0 1 0]-> [0 0 2 0]-> [0 0 3 0]-> [0 0 4 0]-> [0 0 5 0]-> [1 0 5 0]-> [1 1 5 0]-> [1 1 6 0]-> [1 1 6 1]-> [-1 -1 -1 -1]\n",
       "when_is_done=[18 20 15 15 17 15  8 15 24 10])"
      ]
     },
     "execution_count": 6,
     "metadata": {},
     "output_type": "execute_result"
    }
   ],
   "source": [
    "sampler.sample_trajectories(env=env, off_policy=False, n_trajectories=20)"
   ]
  },
  {
   "cell_type": "code",
   "execution_count": null,
   "id": "ceb9bc6e-2057-4b65-9c47-3e93737a5e1e",
   "metadata": {},
   "outputs": [],
   "source": []
  },
  {
   "cell_type": "code",
   "execution_count": null,
   "id": "8928236e-86d0-4bf9-a903-e6232282bbeb",
   "metadata": {},
   "outputs": [],
   "source": []
  }
 ],
 "metadata": {
  "kernelspec": {
   "display_name": "Python 3 (ipykernel)",
   "language": "python",
   "name": "python3"
  },
  "language_info": {
   "codemirror_mode": {
    "name": "ipython",
    "version": 3
   },
   "file_extension": ".py",
   "mimetype": "text/x-python",
   "name": "python",
   "nbconvert_exporter": "python",
   "pygments_lexer": "ipython3",
   "version": "3.10.14"
  }
 },
 "nbformat": 4,
 "nbformat_minor": 5
}
